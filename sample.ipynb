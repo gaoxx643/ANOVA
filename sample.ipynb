{
 "cells": [
  {
   "cell_type": "code",
   "execution_count": 2,
   "metadata": {},
   "outputs": [
    {
     "data": {
      "image/png": "[encoded data removed]",
      "text/plain": [
       "<Figure size 432x288 with 1 Axes>"
      ]
     },
     "metadata": {
      "needs_background": "light"
     },
     "output_type": "display_data"
    }
   ],
   "source": [
    "import random\n",
    "import pandas as pd\n",
    "import numpy as np\n",
    "import matplotlib.pyplot as plt\n",
    "%matplotlib inline\n",
    "\n",
    "def samples(sample_times):\n",
    "    '''\n",
    "    sample_times:抽样次数\n",
    "    n:每次抽样数量\n",
    "    '''\n",
    "    recall = []\n",
    "    for i in range(sample_times):\n",
    "        pop = [11]*1600 + [10]*400+[1]*1200 + [0]*6800\n",
    "        sample = random.sample(pop, 1500)\n",
    "        ser=pd.Series(sample)\n",
    "        result=ser.value_counts()\n",
    "        rec=result[11]/(result[11]+result[10])\n",
    "        recall.append(rec)\n",
    "    return recall\n",
    "\n",
    "result=samples(10000)\n",
    "result_ser=pd.Series(result)\n",
    "result_ser.hist()\n",
    "plt.show()"
   ]
  },
  {
   "cell_type": "code",
   "execution_count": null,
   "metadata": {},
   "outputs": [],
   "source": [
    "def samples(sample_times):\n",
    "    '''\n",
    "    sample_times:抽样次数\n",
    "    n:每次抽样数量\n",
    "    '''\n",
    "    recall = []\n",
    "    for i in range(sample_times):\n",
    "        pop1=[11]*1600 +[1]*1200\n",
    "        sample1 = random.sample(pop1, 500)\n",
    "        ser1=pd.Series(sample1)\n",
    "\n",
    "        pop2=[10]*400 + [0]*6800\n",
    "        sample2 = random.sample(pop2, 1000)\n",
    "        ser2=pd.Series(sample2)\n",
    "\n",
    "        ser=pd.concat([ser1,ser2])\n",
    "        result=ser.value_counts()\n",
    "        rec=(result[11]/500*2800)/((result[11]/500*2800)+result[10]/1000*7200)\n",
    "        recall.append(rec)\n",
    "    return recall\n",
    "\n",
    "result=samples(10000)\n",
    "result_ser=pd.Series(result)\n",
    "result_ser.hist()\n",
    "plt.show()"
   ]
  }
 ],
 "metadata": {
  "kernelspec": {
   "display_name": "Python 3",
   "language": "python",
   "name": "python3"
  },
  "language_info": {
   "codemirror_mode": {
    "name": "ipython",
    "version": 3
   },
   "file_extension": ".py",
   "mimetype": "text/x-python",
   "name": "python",
   "nbconvert_exporter": "python",
   "pygments_lexer": "ipython3",
   "version": "3.7.2"
  }
 },
 "nbformat": 4,
 "nbformat_minor": 2
}
